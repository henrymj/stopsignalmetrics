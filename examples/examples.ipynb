{
 "cells": [
  {
   "cell_type": "code",
   "execution_count": 1,
   "metadata": {},
   "outputs": [],
   "source": [
    "import numpy as np\n",
    "import pandas as pd\n",
    "from stopsignalmetrics import StopData, SSRTmodel, PostStopSlow, Violations, StopSummary\n",
    "\n",
    "\n",
    "import matplotlib.pyplot as plt\n",
    "import seaborn as sns"
   ]
  },
  {
   "cell_type": "markdown",
   "metadata": {},
   "source": [
    "# MTURK DATA"
   ]
  },
  {
   "cell_type": "code",
   "execution_count": 2,
   "metadata": {},
   "outputs": [],
   "source": [
    "variable_dict = {\n",
    "   \"columns\": {\n",
    "      \"ID\": \"worker_id\",\n",
    "      \"block\": \"current_block\",\n",
    "      \"condition\": \"SS_trial_type\",\n",
    "      \"SSD\": \"SS_delay\",\n",
    "      \"goRT\": \"rt\",\n",
    "      \"stopRT\": \"rt\",\n",
    "      \"response\": \"key_press\",\n",
    "      \"correct_response\": \"correct_response\",\n",
    "      \"choice_accuracy\": \"choice_accuracy\"\n",
    "   },\n",
    "   \"key_codes\": {\n",
    "      \"go\": \"go\",\n",
    "      \"stop\": \"stop\",\n",
    "      \"correct\": 1,\n",
    "      \"incorrect\": 0,\n",
    "      \"noResponse\": -1\n",
    "   }\n",
    "}\n",
    "stop_data = StopData(var_dict=variable_dict)"
   ]
  },
  {
   "cell_type": "markdown",
   "metadata": {},
   "source": [
    "# 1 Subject"
   ]
  },
  {
   "cell_type": "code",
   "execution_count": 3,
   "metadata": {},
   "outputs": [],
   "source": [
    "subj_file = '../stopsignalmetrics/data/example_mturk_individual.csv'\n",
    "subj_df = pd.read_csv(subj_file)\n",
    "subj_df = subj_df.fillna(-1.)\n",
    "cleaned_subj = stop_data.fit_transform(subj_df)"
   ]
  },
  {
   "cell_type": "code",
   "execution_count": 4,
   "metadata": {},
   "outputs": [
    {
     "data": {
      "text/plain": [
       "{'SSRT': {'mean': 301.53228449688623,\n",
       "  'integration': 279.6296296296296,\n",
       "  'omission': 282.6296296296296,\n",
       "  'replacement': 282.6296296296296},\n",
       " 'mean_SSD': 295.3703703703704,\n",
       " 'p_respond': 0.5,\n",
       " 'max_RT': 1675.0,\n",
       " 'mean_go_RT': 596.9026548672566,\n",
       " 'mean_stopfail_RT': 520.8888888888889,\n",
       " 'omission_count': 1,\n",
       " 'omission_rate': 0.008771929824561403,\n",
       " 'go_acc': 0.911504424778761,\n",
       " 'stopfail_acc': 0.0}"
      ]
     },
     "execution_count": 4,
     "metadata": {},
     "output_type": "execute_result"
    }
   ],
   "source": [
    "ssrt_model = SSRTmodel(model='all')\n",
    "metrics = ssrt_model.fit_transform(cleaned_subj)\n",
    "metrics"
   ]
  },
  {
   "cell_type": "markdown",
   "metadata": {},
   "source": [
    "# Group 1"
   ]
  },
  {
   "cell_type": "code",
   "execution_count": 10,
   "metadata": {},
   "outputs": [
    {
     "ename": "AssertionError",
     "evalue": "missing SS_trial_type from raw data df columns",
     "output_type": "error",
     "traceback": [
      "\u001b[0;31m---------------------------------------------------------------------------\u001b[0m",
      "\u001b[0;31mAssertionError\u001b[0m                            Traceback (most recent call last)",
      "\u001b[0;32m<ipython-input-10-60e09b81bda8>\u001b[0m in \u001b[0;36m<module>\u001b[0;34m\u001b[0m\n\u001b[1;32m      3\u001b[0m \u001b[0;31m# group_df = group_df.reset_index()\u001b[0m\u001b[0;34m\u001b[0m\u001b[0;34m\u001b[0m\u001b[0;34m\u001b[0m\u001b[0m\n\u001b[1;32m      4\u001b[0m \u001b[0;34m\u001b[0m\u001b[0m\n\u001b[0;32m----> 5\u001b[0;31m \u001b[0mcleaned_group\u001b[0m \u001b[0;34m=\u001b[0m \u001b[0mstop_data\u001b[0m\u001b[0;34m.\u001b[0m\u001b[0mfit_transform\u001b[0m\u001b[0;34m(\u001b[0m\u001b[0mgroup_df\u001b[0m\u001b[0;34m)\u001b[0m\u001b[0;34m\u001b[0m\u001b[0;34m\u001b[0m\u001b[0m\n\u001b[0m\u001b[1;32m      6\u001b[0m \u001b[0mcleaned_group\u001b[0m\u001b[0;34m\u001b[0m\u001b[0;34m\u001b[0m\u001b[0m\n",
      "\u001b[0;32m~/Documents/stopsignalmetrics/stopsignalmetrics/base.py\u001b[0m in \u001b[0;36mfit_transform\u001b[0;34m(self, data_df)\u001b[0m\n\u001b[1;32m     29\u001b[0m \u001b[0;34m\u001b[0m\u001b[0m\n\u001b[1;32m     30\u001b[0m     \u001b[0;32mdef\u001b[0m \u001b[0mfit_transform\u001b[0m\u001b[0;34m(\u001b[0m\u001b[0mself\u001b[0m\u001b[0;34m,\u001b[0m \u001b[0mdata_df\u001b[0m\u001b[0;34m)\u001b[0m\u001b[0;34m:\u001b[0m\u001b[0;34m\u001b[0m\u001b[0;34m\u001b[0m\u001b[0m\n\u001b[0;32m---> 31\u001b[0;31m         \u001b[0mself\u001b[0m\u001b[0;34m.\u001b[0m\u001b[0mfit\u001b[0m\u001b[0;34m(\u001b[0m\u001b[0mdata_df\u001b[0m\u001b[0;34m)\u001b[0m\u001b[0;34m\u001b[0m\u001b[0;34m\u001b[0m\u001b[0m\n\u001b[0m\u001b[1;32m     32\u001b[0m         \u001b[0;32mreturn\u001b[0m\u001b[0;34m(\u001b[0m\u001b[0mself\u001b[0m\u001b[0;34m.\u001b[0m\u001b[0m_transformed_data\u001b[0m\u001b[0;34m)\u001b[0m\u001b[0;34m\u001b[0m\u001b[0;34m\u001b[0m\u001b[0m\n\u001b[1;32m     33\u001b[0m \u001b[0;34m\u001b[0m\u001b[0m\n",
      "\u001b[0;32m~/Documents/stopsignalmetrics/stopsignalmetrics/stopdata.py\u001b[0m in \u001b[0;36mfit\u001b[0;34m(self, data_df)\u001b[0m\n\u001b[1;32m     17\u001b[0m             \u001b[0;34m'data must be in the form of a pandas dataframe.'\u001b[0m\u001b[0;34m\u001b[0m\u001b[0;34m\u001b[0m\u001b[0m\n\u001b[1;32m     18\u001b[0m         \u001b[0mself\u001b[0m\u001b[0;34m.\u001b[0m\u001b[0m_raw_data\u001b[0m \u001b[0;34m=\u001b[0m \u001b[0mdata_df\u001b[0m\u001b[0;34m.\u001b[0m\u001b[0mcopy\u001b[0m\u001b[0;34m(\u001b[0m\u001b[0;34m)\u001b[0m\u001b[0;34m\u001b[0m\u001b[0;34m\u001b[0m\u001b[0m\n\u001b[0;32m---> 19\u001b[0;31m         \u001b[0;32massert\u001b[0m \u001b[0mself\u001b[0m\u001b[0;34m.\u001b[0m\u001b[0m_check_variables_in_raw_data\u001b[0m\u001b[0;34m(\u001b[0m\u001b[0;34m)\u001b[0m\u001b[0;34m\u001b[0m\u001b[0;34m\u001b[0m\u001b[0m\n\u001b[0m\u001b[1;32m     20\u001b[0m         \u001b[0mself\u001b[0m\u001b[0;34m.\u001b[0m\u001b[0m_map_raw_data_to_standard\u001b[0m\u001b[0;34m(\u001b[0m\u001b[0;34m)\u001b[0m\u001b[0;34m\u001b[0m\u001b[0;34m\u001b[0m\u001b[0m\n\u001b[1;32m     21\u001b[0m         \u001b[0;32mreturn\u001b[0m \u001b[0mself\u001b[0m\u001b[0;34m\u001b[0m\u001b[0;34m\u001b[0m\u001b[0m\n",
      "\u001b[0;32m~/Documents/stopsignalmetrics/stopsignalmetrics/stopdata.py\u001b[0m in \u001b[0;36m_check_variables_in_raw_data\u001b[0;34m(self)\u001b[0m\n\u001b[1;32m     50\u001b[0m             \u001b[0;32massert\u001b[0m \u001b[0mself\u001b[0m\u001b[0;34m.\u001b[0m\u001b[0m_map_cols\u001b[0m\u001b[0;34m[\u001b[0m\u001b[0mkey\u001b[0m\u001b[0;34m]\u001b[0m \u001b[0;32min\u001b[0m \u001b[0mself\u001b[0m\u001b[0;34m.\u001b[0m\u001b[0m_raw_data\u001b[0m\u001b[0;34m.\u001b[0m\u001b[0mcolumns\u001b[0m\u001b[0;34m,\u001b[0m\u001b[0;31m\\\u001b[0m\u001b[0;34m\u001b[0m\u001b[0;34m\u001b[0m\u001b[0m\n\u001b[1;32m     51\u001b[0m                  'missing {} from raw data df columns'.format(\n\u001b[0;32m---> 52\u001b[0;31m                     self._map_cols[key])\n\u001b[0m\u001b[1;32m     53\u001b[0m \u001b[0;34m\u001b[0m\u001b[0m\n\u001b[1;32m     54\u001b[0m         \u001b[0mcondition_codes\u001b[0m \u001b[0;34m=\u001b[0m \u001b[0mself\u001b[0m\u001b[0;34m.\u001b[0m\u001b[0m_raw_data\u001b[0m\u001b[0;34m[\u001b[0m\u001b[0mself\u001b[0m\u001b[0;34m.\u001b[0m\u001b[0m_map_cols\u001b[0m\u001b[0;34m[\u001b[0m\u001b[0;34m'condition'\u001b[0m\u001b[0;34m]\u001b[0m\u001b[0;34m]\u001b[0m\u001b[0;34m.\u001b[0m\u001b[0munique\u001b[0m\u001b[0;34m(\u001b[0m\u001b[0;34m)\u001b[0m\u001b[0;34m\u001b[0m\u001b[0;34m\u001b[0m\u001b[0m\n",
      "\u001b[0;31mAssertionError\u001b[0m: missing SS_trial_type from raw data df columns"
     ]
    }
   ],
   "source": [
    "group_file = '../stopsignalmetrics/data/example_mturk_group_minimal.csv'\n",
    "group_df = pd.read_csv(group_file)\n",
    "# group_df = group_df.reset_index()\n",
    "\n",
    "cleaned_group = stop_data.fit_transform(group_df)\n",
    "cleaned_group"
   ]
  },
  {
   "cell_type": "code",
   "execution_count": 11,
   "metadata": {},
   "outputs": [
    {
     "data": {
      "text/html": [
       "<div>\n",
       "<style scoped>\n",
       "    .dataframe tbody tr th:only-of-type {\n",
       "        vertical-align: middle;\n",
       "    }\n",
       "\n",
       "    .dataframe tbody tr th {\n",
       "        vertical-align: top;\n",
       "    }\n",
       "\n",
       "    .dataframe thead th {\n",
       "        text-align: right;\n",
       "    }\n",
       "</style>\n",
       "<table border=\"1\" class=\"dataframe\">\n",
       "  <thead>\n",
       "    <tr style=\"text-align: right;\">\n",
       "      <th></th>\n",
       "      <th>worker_id</th>\n",
       "      <th>current_block</th>\n",
       "      <th>stop_signal_condition</th>\n",
       "      <th>SS_delay</th>\n",
       "      <th>correct_response</th>\n",
       "      <th>key_press</th>\n",
       "      <th>correct_trial</th>\n",
       "      <th>rt</th>\n",
       "    </tr>\n",
       "  </thead>\n",
       "  <tbody>\n",
       "    <tr>\n",
       "      <th>0</th>\n",
       "      <td>s264</td>\n",
       "      <td>0</td>\n",
       "      <td>go</td>\n",
       "      <td>250</td>\n",
       "      <td>90</td>\n",
       "      <td>90</td>\n",
       "      <td>1</td>\n",
       "      <td>622</td>\n",
       "    </tr>\n",
       "    <tr>\n",
       "      <th>1</th>\n",
       "      <td>s264</td>\n",
       "      <td>0</td>\n",
       "      <td>go</td>\n",
       "      <td>250</td>\n",
       "      <td>77</td>\n",
       "      <td>77</td>\n",
       "      <td>1</td>\n",
       "      <td>519</td>\n",
       "    </tr>\n",
       "    <tr>\n",
       "      <th>2</th>\n",
       "      <td>s264</td>\n",
       "      <td>0</td>\n",
       "      <td>go</td>\n",
       "      <td>250</td>\n",
       "      <td>77</td>\n",
       "      <td>77</td>\n",
       "      <td>1</td>\n",
       "      <td>491</td>\n",
       "    </tr>\n",
       "    <tr>\n",
       "      <th>3</th>\n",
       "      <td>s264</td>\n",
       "      <td>0</td>\n",
       "      <td>go</td>\n",
       "      <td>250</td>\n",
       "      <td>77</td>\n",
       "      <td>77</td>\n",
       "      <td>1</td>\n",
       "      <td>389</td>\n",
       "    </tr>\n",
       "    <tr>\n",
       "      <th>4</th>\n",
       "      <td>s264</td>\n",
       "      <td>0</td>\n",
       "      <td>go</td>\n",
       "      <td>250</td>\n",
       "      <td>77</td>\n",
       "      <td>77</td>\n",
       "      <td>1</td>\n",
       "      <td>314</td>\n",
       "    </tr>\n",
       "    <tr>\n",
       "      <th>...</th>\n",
       "      <td>...</td>\n",
       "      <td>...</td>\n",
       "      <td>...</td>\n",
       "      <td>...</td>\n",
       "      <td>...</td>\n",
       "      <td>...</td>\n",
       "      <td>...</td>\n",
       "      <td>...</td>\n",
       "    </tr>\n",
       "    <tr>\n",
       "      <th>476</th>\n",
       "      <td>s142</td>\n",
       "      <td>1</td>\n",
       "      <td>go</td>\n",
       "      <td>300</td>\n",
       "      <td>90</td>\n",
       "      <td>90</td>\n",
       "      <td>1</td>\n",
       "      <td>532</td>\n",
       "    </tr>\n",
       "    <tr>\n",
       "      <th>477</th>\n",
       "      <td>s142</td>\n",
       "      <td>1</td>\n",
       "      <td>go</td>\n",
       "      <td>300</td>\n",
       "      <td>77</td>\n",
       "      <td>77</td>\n",
       "      <td>1</td>\n",
       "      <td>469</td>\n",
       "    </tr>\n",
       "    <tr>\n",
       "      <th>478</th>\n",
       "      <td>s142</td>\n",
       "      <td>1</td>\n",
       "      <td>stop</td>\n",
       "      <td>300</td>\n",
       "      <td>-1</td>\n",
       "      <td>-1</td>\n",
       "      <td>1</td>\n",
       "      <td>-1</td>\n",
       "    </tr>\n",
       "    <tr>\n",
       "      <th>479</th>\n",
       "      <td>s142</td>\n",
       "      <td>1</td>\n",
       "      <td>stop</td>\n",
       "      <td>350</td>\n",
       "      <td>-1</td>\n",
       "      <td>90</td>\n",
       "      <td>0</td>\n",
       "      <td>382</td>\n",
       "    </tr>\n",
       "    <tr>\n",
       "      <th>480</th>\n",
       "      <td>s142</td>\n",
       "      <td>2</td>\n",
       "      <td>go</td>\n",
       "      <td>300</td>\n",
       "      <td>77</td>\n",
       "      <td>77</td>\n",
       "      <td>1</td>\n",
       "      <td>832</td>\n",
       "    </tr>\n",
       "  </tbody>\n",
       "</table>\n",
       "<p>481 rows × 8 columns</p>\n",
       "</div>"
      ],
      "text/plain": [
       "    worker_id  current_block stop_signal_condition  SS_delay  \\\n",
       "0        s264              0                    go       250   \n",
       "1        s264              0                    go       250   \n",
       "2        s264              0                    go       250   \n",
       "3        s264              0                    go       250   \n",
       "4        s264              0                    go       250   \n",
       "..        ...            ...                   ...       ...   \n",
       "476      s142              1                    go       300   \n",
       "477      s142              1                    go       300   \n",
       "478      s142              1                  stop       300   \n",
       "479      s142              1                  stop       350   \n",
       "480      s142              2                    go       300   \n",
       "\n",
       "     correct_response  key_press  correct_trial   rt  \n",
       "0                  90         90              1  622  \n",
       "1                  77         77              1  519  \n",
       "2                  77         77              1  491  \n",
       "3                  77         77              1  389  \n",
       "4                  77         77              1  314  \n",
       "..                ...        ...            ...  ...  \n",
       "476                90         90              1  532  \n",
       "477                77         77              1  469  \n",
       "478                -1         -1              1   -1  \n",
       "479                -1         90              0  382  \n",
       "480                77         77              1  832  \n",
       "\n",
       "[481 rows x 8 columns]"
      ]
     },
     "execution_count": 11,
     "metadata": {},
     "output_type": "execute_result"
    }
   ],
   "source": [
    "group_df"
   ]
  },
  {
   "cell_type": "code",
   "execution_count": null,
   "metadata": {},
   "outputs": [],
   "source": [
    "ind_test = Violations().fit_transform(cleaned_group, level='group')"
   ]
  },
  {
   "cell_type": "code",
   "execution_count": null,
   "metadata": {},
   "outputs": [],
   "source": [
    "ind_test"
   ]
  },
  {
   "cell_type": "code",
   "execution_count": null,
   "metadata": {},
   "outputs": [],
   "source": [
    "all_ssdvals = g_test.index.levels[1]"
   ]
  },
  {
   "cell_type": "code",
   "execution_count": null,
   "metadata": {},
   "outputs": [],
   "source": [
    "all_ssdvals"
   ]
  },
  {
   "cell_type": "code",
   "execution_count": null,
   "metadata": {},
   "outputs": [],
   "source": [
    "g_test.loc[(slice(None) , 300.0), ]"
   ]
  },
  {
   "cell_type": "code",
   "execution_count": null,
   "metadata": {},
   "outputs": [],
   "source": [
    "ssrt_model = SSRTmodel()\n",
    "cleaned_group.groupby('ID').apply(ssrt_model.fit_transform).apply(pd.Series)"
   ]
  },
  {
   "cell_type": "code",
   "execution_count": null,
   "metadata": {},
   "outputs": [],
   "source": [
    "StopSummary().fit_transform(cleaned_group, level='group')"
   ]
  },
  {
   "cell_type": "code",
   "execution_count": null,
   "metadata": {},
   "outputs": [],
   "source": [
    "Violations().fit_transform(cleaned_group, level='group')"
   ]
  },
  {
   "cell_type": "code",
   "execution_count": null,
   "metadata": {},
   "outputs": [],
   "source": []
  },
  {
   "cell_type": "code",
   "execution_count": null,
   "metadata": {},
   "outputs": [],
   "source": [
    "ind_test = ind_test.set_index('SSD')"
   ]
  },
  {
   "cell_type": "markdown",
   "metadata": {},
   "source": [
    "# Group 2 - Recreating Figure 1b"
   ]
  },
  {
   "cell_type": "code",
   "execution_count": null,
   "metadata": {},
   "outputs": [],
   "source": [
    "# load in data\n",
    "group2_file = 'example_data/DataFixedSSDs2.xlsx'\n",
    "group2_df = pd.read_excel(group2_file)\n",
    "group2_df = group2_df.replace(r'^\\s*$', np.nan, regex=True).replace('?', np.nan)\n",
    "\n",
    "#build up \"correct\" responses for stop trials\n",
    "addon_file = 'example_data/FixedSSD2StopTrialChoiceAccuracyInput.xlsx'\n",
    "addon_df = pd.read_excel(addon_file)\n",
    "\n",
    "group2_df['StopTrialCorrectResponse'] = np.nan\n",
    "\n",
    "# circle response\n",
    "for shape in ['Circle', 'Rhombus', 'Square', 'Triangle']:\n",
    "    group2_df.loc[(group2_df['TrialType']=='stop') & (addon_df['Unnamed: 5']==f'{shape.lower()}.bmp'), 'StopTrialCorrectResponse'] = \\\n",
    "    addon_df.loc[(group2_df['TrialType']=='stop') & (addon_df['Unnamed: 5']==f'{shape.lower()}.bmp'), f'{shape}Response']\n",
    "\n",
    "#combine go and stop into single columns\n",
    "group2_df['response'] = np.where(group2_df['GoTrialResponse'].isnull(), group2_df['StopTrialResponse'], group2_df['GoTrialResponse'])\n",
    "group2_df['CorrectResponse'] = np.where(group2_df['GoTrialCorrectResponse'].isnull(), group2_df['StopTrialCorrectResponse'], group2_df['GoTrialCorrectResponse'])\n",
    "group2_df['CorrectResponse'] = group2_df['CorrectResponse'].str.lower()"
   ]
  },
  {
   "cell_type": "markdown",
   "metadata": {},
   "source": [
    "# Preprocess data"
   ]
  },
  {
   "cell_type": "code",
   "execution_count": null,
   "metadata": {},
   "outputs": [],
   "source": [
    "variable_dict = {\n",
    "   \"columns\": {\n",
    "      \"ID\": \"Subject\",\n",
    "      \"block\": \"Block\",\n",
    "      \"condition\": \"TrialType\",\n",
    "      \"SSD\": \"StopSignalDelay\",\n",
    "      \"goRT\": \"GoRT\",\n",
    "      \"stopRT\": \"StopFailureRT\",\n",
    "      \"response\": \"response\",\n",
    "      \"correct_response\": \"CorrectResponse\",\n",
    "      \"choice_accuracy\": \"choice_accuracy\"\n",
    "   },\n",
    "   \"key_codes\": {\n",
    "      \"go\": \"go\",\n",
    "      \"stop\": \"stop\",\n",
    "      \"correct\": 1,\n",
    "      \"incorrect\": 0\n",
    "   }\n",
    "}\n",
    "\n",
    "stop_data = StopData(var_dict=variable_dict)\n",
    "cleaned_df = stop_data.fit_transform(group2_df)"
   ]
  },
  {
   "cell_type": "markdown",
   "metadata": {},
   "source": [
    "# Get Group Violations - 1 line!"
   ]
  },
  {
   "cell_type": "code",
   "execution_count": null,
   "metadata": {},
   "outputs": [],
   "source": [
    "va_df = Violations().fit_transform(cleaned_df, level='group')"
   ]
  },
  {
   "cell_type": "markdown",
   "metadata": {},
   "source": [
    "# Make a pretty & compelling plot"
   ]
  },
  {
   "cell_type": "code",
   "execution_count": null,
   "metadata": {},
   "outputs": [],
   "source": [
    "# Pivot & Plot\n",
    "pivot_df = va_df.pivot_table(values='mean_violation', index=['SSD'],\n",
    "                        columns=['ID'])\n",
    "\n",
    "\n",
    "fig = plt.figure(figsize=(10,8))\n",
    "plt.plot(pivot_df, linewidth=0, color='c', marker='o', alpha=.3, ) #plot individuals\n",
    "ax = sns.lineplot(x='SSD', y=\"mean_violation\", data=va_df, color='c')\n",
    "ax.axis([0,500,-300,250])\n",
    "ax.plot([0,pivot_df.index.max()],[0,0],color='k',linestyle=':',linewidth=3)\n",
    "\n",
    "xticks=np.arange(0,pivot_df.index.max()+50,50)\n",
    "xticks = [int(i) for i in xticks]\n",
    "if len(xticks)> 16:\n",
    "    xticks = [i for i in xticks if i%100==0]\n",
    "ax.set_xticks(xticks)\n",
    "ax.set_xticklabels(xticks,fontsize=18) \n",
    "yticks=np.arange(-300,250+50,50)\n",
    "ax.set_yticks(yticks)\n",
    "ax.set_yticklabels(yticks,fontsize=18)\n",
    "\n",
    "ax.set_xlabel('Stop-signal delay (ms)',fontsize=24)\n",
    "_ = ax.set_ylabel('Stop failure RT - No-stop RT',fontsize=24) \n",
    "plt.show()\n",
    "plt.close()"
   ]
  },
  {
   "cell_type": "code",
   "execution_count": null,
   "metadata": {},
   "outputs": [],
   "source": [
    "import json"
   ]
  },
  {
   "cell_type": "code",
   "execution_count": null,
   "metadata": {},
   "outputs": [],
   "source": [
    "with open(\"sample.json\", \"w\") as outfile:  \n",
    "    json.dump({'check': np.nan}, outfile)\n",
    "\n"
   ]
  },
  {
   "cell_type": "code",
   "execution_count": null,
   "metadata": {},
   "outputs": [],
   "source": []
  }
 ],
 "metadata": {
  "kernelspec": {
   "display_name": "Python 3",
   "language": "python",
   "name": "python3"
  },
  "language_info": {
   "codemirror_mode": {
    "name": "ipython",
    "version": 3
   },
   "file_extension": ".py",
   "mimetype": "text/x-python",
   "name": "python",
   "nbconvert_exporter": "python",
   "pygments_lexer": "ipython3",
   "version": "3.7.3"
  }
 },
 "nbformat": 4,
 "nbformat_minor": 4
}
